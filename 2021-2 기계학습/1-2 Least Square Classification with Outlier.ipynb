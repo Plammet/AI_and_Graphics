{
  "nbformat": 4,
  "nbformat_minor": 0,
  "metadata": {
    "colab": {
      "name": "Least-square classfication",
      "provenance": [],
      "collapsed_sections": []
    },
    "kernelspec": {
      "name": "python3",
      "display_name": "Python 3"
    },
    "language_info": {
      "name": "python"
    }
  },
  "cells": [
    {
      "cell_type": "code",
      "metadata": {
        "colab": {
          "base_uri": "https://localhost:8080/",
          "height": 297
        },
        "id": "3nqY-RkByi5O",
        "outputId": "03005c12-0985-4edc-ad8c-fac6812980ea"
      },
      "source": [
        "import numpy as np\n",
        "import matplotlib.pyplot as plt\n",
        "from sklearn.datasets import make_classification\n",
        "%matplotlib inline\n",
        "\n",
        "x, t = make_classification(n_features=2, n_redundant=0, n_informative=2,\n",
        "                           random_state=1, n_clusters_per_class=1)\n",
        "\n",
        "##############################\n",
        "x = np.vstack((x, [-20, 1]))\n",
        "t = np.append(t, 1)\n",
        "##############################\n",
        "\n",
        "plt.plot(x[:, 0][t==0], x[:, 1][t==0], \"g^\")\n",
        "plt.plot(x[:, 0][t==1], x[:, 1][t==1], \"bs\")\n",
        "plt.xlim([-25, 2])\n",
        "plt.ylim([0, 2.2])\n",
        "plt.xlabel(\"$x_1$\")\n",
        "plt.ylabel(\"$x_2$\")\n",
        "plt.title(\"Random Two-Class Data\")\n",
        "plt.show()"
      ],
      "execution_count": 130,
      "outputs": [
        {
          "output_type": "display_data",
          "data": {
            "image/png": "[encoded data removed]",
            "text/plain": [
              "<Figure size 432x288 with 1 Axes>"
            ]
          },
          "metadata": {
            "needs_background": "light"
          }
        }
      ]
    },
    {
      "cell_type": "code",
      "metadata": {
        "colab": {
          "base_uri": "https://localhost:8080/"
        },
        "id": "SkLj0Tw30pNE",
        "outputId": "2110c37c-5cf7-453a-85c4-9e67c1446da7"
      },
      "source": [
        "n = x.shape[0]\n",
        "\n",
        "column = np.ones((n, 1))\n",
        "x_tilde = np.append(column, x, 1)\n",
        "\n",
        "t_trans = np.reshape(t, (n,1))\n",
        "T = np.append(-t_trans+1, t_trans, 1)\n",
        "\n",
        "w_tilde = np.matmul(np.matmul(np.linalg.inv(np.matmul(np.transpose(x_tilde), x_tilde)),\n",
        "                              np.transpose(x_tilde)), T)\n",
        "\n",
        "print(w_tilde)"
      ],
      "execution_count": 131,
      "outputs": [
        {
          "output_type": "stream",
          "name": "stdout",
          "text": [
            "[[ 0.40695632  0.59304368]\n",
            " [ 0.12025331 -0.12025331]\n",
            " [ 0.12174488 -0.12174488]]\n"
          ]
        }
      ]
    },
    {
      "cell_type": "code",
      "metadata": {
        "colab": {
          "base_uri": "https://localhost:8080/",
          "height": 297
        },
        "id": "YlkslWUlYR_0",
        "outputId": "e8b16267-3e54-4f8c-8570-fc0635112529"
      },
      "source": [
        "x1 = np.arange(min(x[:,0]), max(x[:,0]),0.01)\n",
        "x2 = np.zeros(x1.size)\n",
        "\n",
        "#####################################\n",
        "w_tilde_sub = w_tilde[:,0]-w_tilde[:,1]\n",
        "for i in range(x1.size):\n",
        "  x2[i] = (w_tilde_sub[1] * -x1[i] - w_tilde_sub[0])/w_tilde_sub[2]\n",
        "#####################################\n",
        "\n",
        "plt.plot(x[:, 0][t==0], x[:, 1][t==0], \"g^\")\n",
        "plt.plot(x[:, 0][t==1], x[:, 1][t==1], \"bs\")\n",
        "plt.xlim([-25, 2])\n",
        "plt.ylim([0, 2.2])\n",
        "plt.xlabel(\"$x_1$\")\n",
        "plt.ylabel(\"$x_2$\")\n",
        "plt.title('Decision Boundary')\n",
        "plt.plot(x1, x2, 'y-')\n",
        "plt.show()"
      ],
      "execution_count": 136,
      "outputs": [
        {
          "output_type": "display_data",
          "data": {
            "image/png": "[encoded data removed]",
            "text/plain": [
              "<Figure size 432x288 with 1 Axes>"
            ]
          },
          "metadata": {
            "needs_background": "light"
          }
        }
      ]
    }
  ]
}