{
  "nbformat": 4,
  "nbformat_minor": 0,
  "metadata": {
    "colab": {
      "name": "[2021_2_ML]_HW2_3_skeleton.ipynb",
      "provenance": [],
      "collapsed_sections": []
    },
    "kernelspec": {
      "name": "python3",
      "display_name": "Python 3"
    },
    "language_info": {
      "name": "python"
    }
  },
  "cells": [
    {
      "cell_type": "markdown",
      "metadata": {
        "id": "y6lTCrROyaFv"
      },
      "source": [
        "### 2021-2 Machine Learning (01)\n",
        "## Homework #2: Support Vectore Machines Step 3 - MLP\n",
        "---\n",
        "Copyright (c) Code Designed by Prof. Jaehyeong Sim \n",
        "\n",
        "Department of Computer Science and Engineering\n",
        "\n",
        "Ewha Womans University\n",
        "\n"
      ]
    },
    {
      "cell_type": "markdown",
      "metadata": {
        "id": "Bsl8Vvqo3K3I"
      },
      "source": [
        "## Read the csv file and convert the data into Numpy array"
      ]
    },
    {
      "cell_type": "code",
      "metadata": {
        "id": "crKVf4PYA82m",
        "colab": {
          "base_uri": "https://localhost:8080/"
        },
        "outputId": "3f0974f1-541d-481c-a896-6d73f4c779d8"
      },
      "source": [
        "import numpy as np\n",
        "from numpy import linalg\n",
        "import matplotlib.pyplot as plt\n",
        "\n",
        "import numpy as np\n",
        "from sklearn.datasets import make_classification\n",
        "from cvxopt import matrix as cvxopt_matrix\n",
        "from cvxopt import solvers as cvxopt_solvers\n",
        "\n",
        "data = np.recfromcsv(\"haberman.csv\", names=None)\n",
        "\n",
        "x = data[:,0:3]\n",
        "t = data[:,3]\n",
        "\n",
        "# TODO: your job - make appropriate inputs and ground truth outputs for the neural network from the dataset\n",
        "\n",
        "X = np.zeros(x.T.shape)\n",
        "for i in range (x.T.shape[0]):\n",
        "  max = np.max(x.T[i])\n",
        "  min = np.min(x.T[i])\n",
        "  X[i] = (x.T[i] - min) / (max - min)\n",
        "\n",
        "O = t-1\n"
      ],
      "execution_count": null,
      "outputs": [
        {
          "output_type": "stream",
          "name": "stdout",
          "text": [
            "83\n",
            "30\n",
            "69\n",
            "58\n",
            "52\n",
            "0\n"
          ]
        }
      ]
    },
    {
      "cell_type": "markdown",
      "metadata": {
        "id": "BnhsXYaM3aEu"
      },
      "source": [
        "## Visualize the data in 3d space"
      ]
    },
    {
      "cell_type": "code",
      "metadata": {
        "id": "rzyYzUSdklTE",
        "colab": {
          "base_uri": "https://localhost:8080/",
          "height": 542
        },
        "outputId": "9554e277-0042-4e59-a0ed-aaea40e21d7b"
      },
      "source": [
        "import plotly.express as px\n",
        "import pandas as pd\n",
        "\n",
        "df = pd.DataFrame(data, columns=[\"Age\", \"Year\", \"PAD\", \"Class\"])\n",
        "fig = px.scatter_3d(df, x=df.Age, y=df.Year, z=df.PAD, color=df.Class, symbol=df.Class)\n",
        "fig.update_traces(marker_size=2)\n",
        "fig.update_traces(marker_color=1)\n",
        "fig.update_coloraxes(showscale=False)\n",
        "fig.update_layout(legend_itemsizing=\"constant\")\n",
        "fig.show()"
      ],
      "execution_count": null,
      "outputs": [
        {
          "output_type": "display_data",
          "data": {
            "text/html": [
              "<html>\n",
              "<head><meta charset=\"utf-8\" /></head>\n",
              "<body>\n",
              "    <div>\n",
              "            <script src=\"https://cdnjs.cloudflare.com/ajax/libs/mathjax/2.7.5/MathJax.js?config=TeX-AMS-MML_SVG\"></script><script type=\"text/javascript\">if (window.MathJax) {MathJax.Hub.Config({SVG: {font: \"STIX-Web\"}});}</script>\n",
              "                <script type=\"text/javascript\">window.PlotlyConfig = {MathJaxConfig: 'local'};</script>\n",
              "        <script src=\"https://cdn.plot.ly/plotly-latest.min.js\"></script>    \n",
              "            <div id=\"787d596c-5fac-464c-8d4c-f34067438ff3\" class=\"plotly-graph-div\" style=\"height:525px; width:100%;\"></div>\n",
              "            <script type=\"text/javascript\">\n",
              "                \n",
              "                    window.PLOTLYENV=window.PLOTLYENV || {};\n",
              "                    \n",
              "                if (document.getElementById(\"787d596c-5fac-464c-8d4c-f34067438ff3\")) {\n",
              "                    Plotly.newPlot(\n",
              "                        '787d596c-5fac-464c-8d4c-f34067438ff3',\n",
              "                        [{\"hoverlabel\": {\"namelength\": 0}, \"hovertemplate\": \"Class=%{marker.color}<br>Age=%{x}<br>Year=%{y}<br>PAD=%{z}\", \"legendgroup\": \"Class=1\", \"marker\": {\"color\": 1, \"coloraxis\": \"coloraxis\", \"size\": 2, \"symbol\": \"circle\"}, \"mode\": \"markers\", \"name\": \"Class=1\", \"scene\": \"scene\", \"showlegend\": true, \"type\": \"scatter3d\", \"x\": [30, 30, 30, 31, 31, 33, 33, 34, 34, 34, 34, 34, 35, 35, 36, 36, 37, 37, 37, 37, 37, 37, 38, 38, 38, 38, 38, 38, 38, 38, 38, 39, 39, 39, 39, 39, 40, 40, 40, 41, 41, 41, 41, 41, 41, 41, 42, 42, 42, 42, 42, 42, 42, 43, 43, 43, 43, 43, 43, 43, 44, 44, 44, 44, 45, 45, 45, 45, 45, 45, 46, 46, 46, 47, 47, 47, 47, 47, 47, 47, 47, 48, 48, 48, 48, 49, 49, 49, 49, 49, 49, 49, 49, 50, 50, 50, 50, 50, 50, 50, 50, 50, 50, 51, 51, 51, 51, 52, 52, 52, 52, 52, 52, 52, 52, 52, 52, 53, 53, 53, 53, 53, 54, 54, 54, 54, 54, 54, 54, 54, 54, 55, 55, 55, 55, 55, 55, 55, 55, 56, 56, 56, 56, 56, 57, 57, 57, 57, 57, 57, 57, 57, 58, 58, 58, 58, 58, 58, 58, 59, 59, 59, 59, 59, 59, 59, 60, 60, 60, 60, 61, 61, 61, 61, 61, 61, 62, 62, 62, 62, 63, 63, 63, 63, 63, 63, 63, 64, 64, 64, 64, 64, 65, 65, 65, 65, 65, 65, 66, 66, 66, 67, 67, 67, 67, 68, 68, 69, 69, 69, 70, 70, 70, 70, 70, 71, 72, 72, 72, 73, 73, 74, 75, 76, 77], \"y\": [64, 62, 65, 59, 65, 58, 60, 58, 60, 61, 67, 60, 64, 63, 60, 69, 60, 63, 58, 59, 60, 63, 59, 60, 60, 62, 64, 66, 66, 60, 67, 63, 67, 58, 59, 63, 58, 58, 65, 58, 59, 59, 64, 69, 65, 65, 58, 60, 59, 61, 62, 65, 63, 63, 64, 64, 60, 63, 65, 66, 61, 63, 61, 67, 60, 67, 59, 64, 68, 67, 62, 58, 63, 61, 63, 66, 67, 58, 60, 68, 66, 61, 62, 64, 66, 61, 62, 66, 60, 62, 63, 61, 67, 59, 61, 61, 63, 58, 59, 61, 64, 65, 66, 64, 59, 65, 66, 61, 63, 69, 60, 60, 62, 62, 64, 65, 68, 58, 60, 60, 61, 63, 59, 60, 66, 67, 62, 69, 63, 58, 62, 58, 58, 58, 66, 66, 69, 69, 67, 60, 66, 66, 67, 60, 64, 69, 61, 62, 63, 64, 64, 67, 59, 60, 61, 67, 58, 58, 61, 60, 63, 64, 64, 64, 64, 67, 61, 67, 61, 64, 59, 59, 64, 65, 68, 59, 62, 66, 66, 58, 61, 62, 63, 63, 66, 61, 61, 58, 65, 66, 61, 68, 58, 64, 67, 59, 64, 67, 58, 58, 68, 66, 66, 61, 65, 67, 68, 60, 65, 66, 66, 67, 68, 59, 63, 68, 58, 64, 67, 62, 68, 63, 62, 67, 65], \"z\": [1, 3, 0, 2, 4, 10, 0, 30, 1, 10, 7, 0, 13, 0, 1, 0, 0, 0, 0, 6, 15, 0, 2, 0, 0, 3, 1, 0, 11, 1, 5, 0, 0, 0, 2, 4, 2, 0, 0, 0, 8, 0, 0, 8, 0, 0, 0, 1, 2, 4, 20, 0, 1, 14, 2, 3, 0, 2, 0, 4, 0, 1, 0, 16, 0, 0, 14, 0, 0, 1, 0, 3, 0, 0, 6, 0, 0, 3, 4, 4, 12, 8, 2, 0, 0, 1, 0, 0, 1, 1, 3, 0, 1, 0, 6, 0, 1, 1, 2, 0, 0, 4, 1, 7, 1, 0, 1, 0, 4, 0, 4, 5, 0, 1, 0, 0, 0, 1, 1, 2, 1, 0, 7, 3, 0, 46, 0, 7, 19, 1, 0, 1, 0, 1, 18, 0, 3, 22, 1, 0, 2, 1, 0, 0, 9, 0, 0, 0, 0, 0, 0, 0, 0, 3, 1, 0, 0, 3, 2, 0, 0, 1, 4, 0, 7, 3, 1, 2, 25, 0, 0, 0, 0, 8, 0, 0, 6, 0, 0, 0, 0, 0, 0, 0, 0, 9, 28, 0, 22, 0, 0, 0, 0, 0, 0, 2, 0, 1, 0, 1, 0, 0, 0, 0, 0, 0, 0, 0, 0, 0, 14, 0, 0, 8, 0, 2, 0, 0, 3, 0, 0, 0, 1, 0, 3]}, {\"hoverlabel\": {\"namelength\": 0}, \"hovertemplate\": \"Class=%{marker.color}<br>Age=%{x}<br>Year=%{y}<br>PAD=%{z}\", \"legendgroup\": \"Class=2\", \"marker\": {\"color\": 1, \"coloraxis\": \"coloraxis\", \"size\": 2, \"symbol\": \"diamond\"}, \"mode\": \"markers\", \"name\": \"Class=2\", \"scene\": \"scene\", \"showlegend\": true, \"type\": \"scatter3d\", \"x\": [34, 34, 38, 39, 41, 41, 41, 42, 42, 43, 43, 43, 43, 44, 44, 44, 45, 45, 45, 46, 46, 46, 46, 47, 47, 47, 48, 48, 48, 49, 49, 50, 50, 51, 51, 52, 52, 52, 52, 53, 53, 53, 53, 53, 53, 54, 54, 54, 54, 55, 55, 56, 56, 57, 57, 57, 59, 60, 60, 61, 61, 61, 62, 62, 62, 63, 65, 65, 65, 65, 66, 66, 67, 67, 69, 70, 70, 72, 74, 78, 83], \"y\": [59, 66, 69, 66, 60, 64, 67, 69, 59, 58, 59, 64, 64, 64, 58, 63, 65, 66, 67, 58, 69, 62, 65, 63, 62, 65, 58, 58, 67, 63, 64, 63, 64, 59, 59, 69, 59, 62, 66, 58, 65, 59, 60, 63, 65, 60, 65, 65, 68, 63, 68, 65, 66, 61, 62, 64, 62, 59, 65, 62, 65, 68, 59, 58, 65, 60, 58, 61, 62, 66, 58, 61, 64, 63, 67, 58, 58, 63, 65, 65, 58], \"z\": [0, 9, 21, 0, 23, 0, 0, 1, 0, 52, 2, 0, 0, 6, 9, 19, 6, 0, 1, 2, 3, 5, 20, 23, 0, 0, 11, 11, 7, 0, 10, 13, 0, 13, 3, 3, 2, 3, 4, 4, 1, 3, 9, 24, 12, 11, 23, 5, 7, 6, 15, 9, 3, 5, 14, 1, 35, 17, 0, 5, 0, 1, 13, 0, 19, 1, 0, 2, 22, 15, 0, 13, 8, 1, 8, 0, 4, 0, 3, 1, 2]}],\n",
              "                        {\"coloraxis\": {\"colorbar\": {\"title\": {\"text\": \"Class\"}}, \"colorscale\": [[0.0, \"#0d0887\"], [0.1111111111111111, \"#46039f\"], [0.2222222222222222, \"#7201a8\"], [0.3333333333333333, \"#9c179e\"], [0.4444444444444444, \"#bd3786\"], [0.5555555555555556, \"#d8576b\"], [0.6666666666666666, \"#ed7953\"], [0.7777777777777778, \"#fb9f3a\"], [0.8888888888888888, \"#fdca26\"], [1.0, \"#f0f921\"]], \"showscale\": false}, \"legend\": {\"itemsizing\": \"constant\", \"tracegroupgap\": 0}, \"margin\": {\"t\": 60}, \"scene\": {\"domain\": {\"x\": [0.0, 1.0], \"y\": [0.0, 1.0]}, \"xaxis\": {\"title\": {\"text\": \"Age\"}}, \"yaxis\": {\"title\": {\"text\": \"Year\"}}, \"zaxis\": {\"title\": {\"text\": \"PAD\"}}}, \"template\": {\"data\": {\"bar\": [{\"error_x\": {\"color\": \"#2a3f5f\"}, \"error_y\": {\"color\": \"#2a3f5f\"}, \"marker\": {\"line\": {\"color\": \"#E5ECF6\", \"width\": 0.5}}, \"type\": \"bar\"}], \"barpolar\": [{\"marker\": {\"line\": {\"color\": \"#E5ECF6\", \"width\": 0.5}}, \"type\": \"barpolar\"}], \"carpet\": [{\"aaxis\": {\"endlinecolor\": \"#2a3f5f\", \"gridcolor\": \"white\", \"linecolor\": \"white\", \"minorgridcolor\": \"white\", \"startlinecolor\": \"#2a3f5f\"}, \"baxis\": {\"endlinecolor\": \"#2a3f5f\", \"gridcolor\": \"white\", \"linecolor\": \"white\", \"minorgridcolor\": \"white\", \"startlinecolor\": \"#2a3f5f\"}, \"type\": \"carpet\"}], \"choropleth\": [{\"colorbar\": {\"outlinewidth\": 0, \"ticks\": \"\"}, \"type\": \"choropleth\"}], \"contour\": [{\"colorbar\": {\"outlinewidth\": 0, \"ticks\": \"\"}, \"colorscale\": [[0.0, \"#0d0887\"], [0.1111111111111111, \"#46039f\"], [0.2222222222222222, \"#7201a8\"], [0.3333333333333333, \"#9c179e\"], [0.4444444444444444, \"#bd3786\"], [0.5555555555555556, \"#d8576b\"], [0.6666666666666666, \"#ed7953\"], [0.7777777777777778, \"#fb9f3a\"], [0.8888888888888888, \"#fdca26\"], [1.0, \"#f0f921\"]], \"type\": \"contour\"}], \"contourcarpet\": [{\"colorbar\": {\"outlinewidth\": 0, \"ticks\": \"\"}, \"type\": \"contourcarpet\"}], \"heatmap\": [{\"colorbar\": {\"outlinewidth\": 0, \"ticks\": \"\"}, \"colorscale\": [[0.0, \"#0d0887\"], [0.1111111111111111, \"#46039f\"], [0.2222222222222222, \"#7201a8\"], [0.3333333333333333, \"#9c179e\"], [0.4444444444444444, \"#bd3786\"], [0.5555555555555556, \"#d8576b\"], [0.6666666666666666, \"#ed7953\"], [0.7777777777777778, \"#fb9f3a\"], [0.8888888888888888, \"#fdca26\"], [1.0, \"#f0f921\"]], \"type\": \"heatmap\"}], \"heatmapgl\": [{\"colorbar\": {\"outlinewidth\": 0, \"ticks\": \"\"}, \"colorscale\": [[0.0, \"#0d0887\"], [0.1111111111111111, \"#46039f\"], [0.2222222222222222, \"#7201a8\"], [0.3333333333333333, \"#9c179e\"], [0.4444444444444444, \"#bd3786\"], [0.5555555555555556, \"#d8576b\"], [0.6666666666666666, \"#ed7953\"], [0.7777777777777778, \"#fb9f3a\"], [0.8888888888888888, \"#fdca26\"], [1.0, \"#f0f921\"]], \"type\": \"heatmapgl\"}], \"histogram\": [{\"marker\": {\"colorbar\": {\"outlinewidth\": 0, \"ticks\": \"\"}}, \"type\": \"histogram\"}], \"histogram2d\": [{\"colorbar\": {\"outlinewidth\": 0, \"ticks\": \"\"}, \"colorscale\": [[0.0, \"#0d0887\"], [0.1111111111111111, \"#46039f\"], [0.2222222222222222, \"#7201a8\"], [0.3333333333333333, \"#9c179e\"], [0.4444444444444444, \"#bd3786\"], [0.5555555555555556, \"#d8576b\"], [0.6666666666666666, \"#ed7953\"], [0.7777777777777778, \"#fb9f3a\"], [0.8888888888888888, \"#fdca26\"], [1.0, \"#f0f921\"]], \"type\": \"histogram2d\"}], \"histogram2dcontour\": [{\"colorbar\": {\"outlinewidth\": 0, \"ticks\": \"\"}, \"colorscale\": [[0.0, \"#0d0887\"], [0.1111111111111111, \"#46039f\"], [0.2222222222222222, \"#7201a8\"], [0.3333333333333333, \"#9c179e\"], [0.4444444444444444, \"#bd3786\"], [0.5555555555555556, \"#d8576b\"], [0.6666666666666666, \"#ed7953\"], [0.7777777777777778, \"#fb9f3a\"], [0.8888888888888888, \"#fdca26\"], [1.0, \"#f0f921\"]], \"type\": \"histogram2dcontour\"}], \"mesh3d\": [{\"colorbar\": {\"outlinewidth\": 0, \"ticks\": \"\"}, \"type\": \"mesh3d\"}], \"parcoords\": [{\"line\": {\"colorbar\": {\"outlinewidth\": 0, \"ticks\": \"\"}}, \"type\": \"parcoords\"}], \"pie\": [{\"automargin\": true, \"type\": \"pie\"}], \"scatter\": [{\"marker\": {\"colorbar\": {\"outlinewidth\": 0, \"ticks\": \"\"}}, \"type\": \"scatter\"}], \"scatter3d\": [{\"line\": {\"colorbar\": {\"outlinewidth\": 0, \"ticks\": \"\"}}, \"marker\": {\"colorbar\": {\"outlinewidth\": 0, \"ticks\": \"\"}}, \"type\": \"scatter3d\"}], \"scattercarpet\": [{\"marker\": {\"colorbar\": {\"outlinewidth\": 0, \"ticks\": \"\"}}, \"type\": \"scattercarpet\"}], \"scattergeo\": [{\"marker\": {\"colorbar\": {\"outlinewidth\": 0, \"ticks\": \"\"}}, \"type\": \"scattergeo\"}], \"scattergl\": [{\"marker\": {\"colorbar\": {\"outlinewidth\": 0, \"ticks\": \"\"}}, \"type\": \"scattergl\"}], \"scattermapbox\": [{\"marker\": {\"colorbar\": {\"outlinewidth\": 0, \"ticks\": \"\"}}, \"type\": \"scattermapbox\"}], \"scatterpolar\": [{\"marker\": {\"colorbar\": {\"outlinewidth\": 0, \"ticks\": \"\"}}, \"type\": \"scatterpolar\"}], \"scatterpolargl\": [{\"marker\": {\"colorbar\": {\"outlinewidth\": 0, \"ticks\": \"\"}}, \"type\": \"scatterpolargl\"}], \"scatterternary\": [{\"marker\": {\"colorbar\": {\"outlinewidth\": 0, \"ticks\": \"\"}}, \"type\": \"scatterternary\"}], \"surface\": [{\"colorbar\": {\"outlinewidth\": 0, \"ticks\": \"\"}, \"colorscale\": [[0.0, \"#0d0887\"], [0.1111111111111111, \"#46039f\"], [0.2222222222222222, \"#7201a8\"], [0.3333333333333333, \"#9c179e\"], [0.4444444444444444, \"#bd3786\"], [0.5555555555555556, \"#d8576b\"], [0.6666666666666666, \"#ed7953\"], [0.7777777777777778, \"#fb9f3a\"], [0.8888888888888888, \"#fdca26\"], [1.0, \"#f0f921\"]], \"type\": \"surface\"}], \"table\": [{\"cells\": {\"fill\": {\"color\": \"#EBF0F8\"}, \"line\": {\"color\": \"white\"}}, \"header\": {\"fill\": {\"color\": \"#C8D4E3\"}, \"line\": {\"color\": \"white\"}}, \"type\": \"table\"}]}, \"layout\": {\"annotationdefaults\": {\"arrowcolor\": \"#2a3f5f\", \"arrowhead\": 0, \"arrowwidth\": 1}, \"coloraxis\": {\"colorbar\": {\"outlinewidth\": 0, \"ticks\": \"\"}}, \"colorscale\": {\"diverging\": [[0, \"#8e0152\"], [0.1, \"#c51b7d\"], [0.2, \"#de77ae\"], [0.3, \"#f1b6da\"], [0.4, \"#fde0ef\"], [0.5, \"#f7f7f7\"], [0.6, \"#e6f5d0\"], [0.7, \"#b8e186\"], [0.8, \"#7fbc41\"], [0.9, \"#4d9221\"], [1, \"#276419\"]], \"sequential\": [[0.0, \"#0d0887\"], [0.1111111111111111, \"#46039f\"], [0.2222222222222222, \"#7201a8\"], [0.3333333333333333, \"#9c179e\"], [0.4444444444444444, \"#bd3786\"], [0.5555555555555556, \"#d8576b\"], [0.6666666666666666, \"#ed7953\"], [0.7777777777777778, \"#fb9f3a\"], [0.8888888888888888, \"#fdca26\"], [1.0, \"#f0f921\"]], \"sequentialminus\": [[0.0, \"#0d0887\"], [0.1111111111111111, \"#46039f\"], [0.2222222222222222, \"#7201a8\"], [0.3333333333333333, \"#9c179e\"], [0.4444444444444444, \"#bd3786\"], [0.5555555555555556, \"#d8576b\"], [0.6666666666666666, \"#ed7953\"], [0.7777777777777778, \"#fb9f3a\"], [0.8888888888888888, \"#fdca26\"], [1.0, \"#f0f921\"]]}, \"colorway\": [\"#636efa\", \"#EF553B\", \"#00cc96\", \"#ab63fa\", \"#FFA15A\", \"#19d3f3\", \"#FF6692\", \"#B6E880\", \"#FF97FF\", \"#FECB52\"], \"font\": {\"color\": \"#2a3f5f\"}, \"geo\": {\"bgcolor\": \"white\", \"lakecolor\": \"white\", \"landcolor\": \"#E5ECF6\", \"showlakes\": true, \"showland\": true, \"subunitcolor\": \"white\"}, \"hoverlabel\": {\"align\": \"left\"}, \"hovermode\": \"closest\", \"mapbox\": {\"style\": \"light\"}, \"paper_bgcolor\": \"white\", \"plot_bgcolor\": \"#E5ECF6\", \"polar\": {\"angularaxis\": {\"gridcolor\": \"white\", \"linecolor\": \"white\", \"ticks\": \"\"}, \"bgcolor\": \"#E5ECF6\", \"radialaxis\": {\"gridcolor\": \"white\", \"linecolor\": \"white\", \"ticks\": \"\"}}, \"scene\": {\"xaxis\": {\"backgroundcolor\": \"#E5ECF6\", \"gridcolor\": \"white\", \"gridwidth\": 2, \"linecolor\": \"white\", \"showbackground\": true, \"ticks\": \"\", \"zerolinecolor\": \"white\"}, \"yaxis\": {\"backgroundcolor\": \"#E5ECF6\", \"gridcolor\": \"white\", \"gridwidth\": 2, \"linecolor\": \"white\", \"showbackground\": true, \"ticks\": \"\", \"zerolinecolor\": \"white\"}, \"zaxis\": {\"backgroundcolor\": \"#E5ECF6\", \"gridcolor\": \"white\", \"gridwidth\": 2, \"linecolor\": \"white\", \"showbackground\": true, \"ticks\": \"\", \"zerolinecolor\": \"white\"}}, \"shapedefaults\": {\"line\": {\"color\": \"#2a3f5f\"}}, \"ternary\": {\"aaxis\": {\"gridcolor\": \"white\", \"linecolor\": \"white\", \"ticks\": \"\"}, \"baxis\": {\"gridcolor\": \"white\", \"linecolor\": \"white\", \"ticks\": \"\"}, \"bgcolor\": \"#E5ECF6\", \"caxis\": {\"gridcolor\": \"white\", \"linecolor\": \"white\", \"ticks\": \"\"}}, \"title\": {\"x\": 0.05}, \"xaxis\": {\"automargin\": true, \"gridcolor\": \"white\", \"linecolor\": \"white\", \"ticks\": \"\", \"title\": {\"standoff\": 15}, \"zerolinecolor\": \"white\", \"zerolinewidth\": 2}, \"yaxis\": {\"automargin\": true, \"gridcolor\": \"white\", \"linecolor\": \"white\", \"ticks\": \"\", \"title\": {\"standoff\": 15}, \"zerolinecolor\": \"white\", \"zerolinewidth\": 2}}}},\n",
              "                        {\"responsive\": true}\n",
              "                    ).then(function(){\n",
              "                            \n",
              "var gd = document.getElementById('787d596c-5fac-464c-8d4c-f34067438ff3');\n",
              "var x = new MutationObserver(function (mutations, observer) {{\n",
              "        var display = window.getComputedStyle(gd).display;\n",
              "        if (!display || display === 'none') {{\n",
              "            console.log([gd, 'removed!']);\n",
              "            Plotly.purge(gd);\n",
              "            observer.disconnect();\n",
              "        }}\n",
              "}});\n",
              "\n",
              "// Listen for the removal of the full notebook cells\n",
              "var notebookContainer = gd.closest('#notebook-container');\n",
              "if (notebookContainer) {{\n",
              "    x.observe(notebookContainer, {childList: true});\n",
              "}}\n",
              "\n",
              "// Listen for the clearing of the current output cell\n",
              "var outputEl = gd.closest('.output');\n",
              "if (outputEl) {{\n",
              "    x.observe(outputEl, {childList: true});\n",
              "}}\n",
              "\n",
              "                        })\n",
              "                };\n",
              "                \n",
              "            </script>\n",
              "        </div>\n",
              "</body>\n",
              "</html>"
            ]
          },
          "metadata": {}
        }
      ]
    },
    {
      "cell_type": "markdown",
      "metadata": {
        "id": "_0ZV56ADkorj"
      },
      "source": [
        "## Parameter initialization function"
      ]
    },
    {
      "cell_type": "code",
      "metadata": {
        "id": "fU-iZZSJBfvO"
      },
      "source": [
        "def init_params(num_input = 2, num_hidden = 2, num_output=1):\n",
        "  W1 = np.random.rand(num_hidden, num_input)\n",
        "  B1 = np.random.rand(num_hidden, 1)\n",
        "  W2 = np.random.rand(num_output, num_hidden)\n",
        "  B2 = np.random.rand(num_output, 1)\n",
        "  return W1, B1, W2, B2"
      ],
      "execution_count": null,
      "outputs": []
    },
    {
      "cell_type": "markdown",
      "metadata": {
        "id": "UPVHiiiNk1-t"
      },
      "source": [
        "## wxpb and activation functions"
      ]
    },
    {
      "cell_type": "code",
      "metadata": {
        "id": "B2TgiVSpCDib"
      },
      "source": [
        "def wxpb(W, X, B):\n",
        "  return np.dot(W, X) + B\n",
        "\n",
        "def tanh(x):\n",
        "  return np.tanh(x)\n",
        "\n",
        "def sigmoid (x):\n",
        "  return 1/(1+np.exp(-1*x))"
      ],
      "execution_count": null,
      "outputs": []
    },
    {
      "cell_type": "markdown",
      "metadata": {
        "id": "uuTzceVjk_dh"
      },
      "source": [
        "## Loss function"
      ]
    },
    {
      "cell_type": "code",
      "metadata": {
        "id": "neRN3leWCb0Y"
      },
      "source": [
        "def loss_func(Z, O):\n",
        "  return 1./(Z.shape[1])*np.sum(1./2 * ((Z-O)**2))"
      ],
      "execution_count": null,
      "outputs": []
    },
    {
      "cell_type": "markdown",
      "metadata": {
        "id": "XCBg2r0BlFtN"
      },
      "source": [
        "## Forward propagation"
      ]
    },
    {
      "cell_type": "code",
      "metadata": {
        "id": "Lb6UwJq2CsZH"
      },
      "source": [
        "def forward(X, O, W1, B1, W2, B2):\n",
        "  A1 = wxpb(W1, X, B1)\n",
        "  Z1 = tanh(A1)\n",
        "  A2 = wxpb(W2, Z1, B2)\n",
        "\n",
        "  Z2 = sigmoid(A2)\n",
        "  loss = loss_func(Z2, O)\n",
        "  return A1, Z1, A2, Z2, loss"
      ],
      "execution_count": null,
      "outputs": []
    },
    {
      "cell_type": "markdown",
      "metadata": {
        "id": "2BTblA4hlbMK"
      },
      "source": [
        "## Backpropagation"
      ]
    },
    {
      "cell_type": "code",
      "metadata": {
        "id": "mAHGQaCMlUsl"
      },
      "source": [
        "def backprop(W2, A1, Z1, A2, Z2, X, O):\n",
        "\n",
        "  dZ2 = np.multiply(Z2-O, sigmoid(A2)*(1-sigmoid(A2)))\n",
        "  dW2 = np.dot(dZ2, Z1.T)\n",
        "  dB2 = np.sum(dZ2)\n",
        "\n",
        "  dZ1 = np.multiply(np.dot(W2.T, dZ2), (1-(tanh(A1)**2)))\n",
        "  dW1 = np.dot(dZ1, X.T)\n",
        "  dB1 = np.sum(dZ1)\n",
        "  \n",
        "  return dW1, dB1, dW2, dB2"
      ],
      "execution_count": null,
      "outputs": []
    },
    {
      "cell_type": "markdown",
      "metadata": {
        "id": "xlUIsRwbldz3"
      },
      "source": [
        "## Train function"
      ]
    },
    {
      "cell_type": "code",
      "metadata": {
        "id": "yu_QEkXSlVaD"
      },
      "source": [
        "def train(W1, B1, W2, B2, X, O, lr, nepochs):\n",
        "\n",
        "  loss_trace = []\n",
        "  acc_trace = []\n",
        "\n",
        "  for epoch in range(nepochs):\n",
        "\n",
        "    A1, Z1, A2, Z2, loss = forward(X, O, W1, B1, W2, B2)\n",
        "    dW1, dB1, dW2, dB2 = backprop(W2, A1, Z1, A2, Z2, X, O)\n",
        "\n",
        "    W2 = W2 - lr * dW2\n",
        "    B2 = B2 - lr * dB2\n",
        "\n",
        "    W1 = W1 - lr * dW1\n",
        "    B1 = B1 - lr * dB1\n",
        "    \n",
        "    acc_trace.append(np.sum(abs(Z2 - O) < 0.5)/X.shape[1])\n",
        "    loss_trace.append(loss)\n",
        "\n",
        "  return W1, B1, W2, B2, loss_trace, loss, acc_trace, Z1, Z2"
      ],
      "execution_count": null,
      "outputs": []
    },
    {
      "cell_type": "markdown",
      "metadata": {
        "id": "dCCFnTpDlp5y"
      },
      "source": [
        "## Initialize parameters and run training process"
      ]
    },
    {
      "cell_type": "code",
      "metadata": {
        "id": "Qe-5sk7pEtVr"
      },
      "source": [
        "# TODO: your job - change the neural network as below\n",
        "#                  number of inputs:       3\n",
        "#                  number of hidden units: 3\n",
        "#                  number of outputs:      1\n",
        "\n",
        "W1, B1, W2, B2 = init_params(3,3,1)\n",
        "W1, B1, W2, B2, loss_trace, loss, acc_trace, Z1, Z2 = train(W1, B1, W2, B2, X, O, 0.001, 500)\n"
      ],
      "execution_count": null,
      "outputs": []
    },
    {
      "cell_type": "markdown",
      "metadata": {
        "id": "Gi9U2afTl0B8"
      },
      "source": [
        "## Visualize loss trace"
      ]
    },
    {
      "cell_type": "code",
      "metadata": {
        "id": "8VY6GD0OEzDZ",
        "colab": {
          "base_uri": "https://localhost:8080/",
          "height": 279
        },
        "outputId": "cf94e5fd-7611-48bb-a12d-980719db6b7e"
      },
      "source": [
        "import matplotlib.pyplot as plt\n",
        "\n",
        "plt.plot(loss_trace)\n",
        "plt.ylabel('loss')\n",
        "plt.xlabel('epochs')\n",
        "plt.show()"
      ],
      "execution_count": null,
      "outputs": [
        {
          "output_type": "display_data",
          "data": {
            "image/png": "[encoded data removed]",
            "text/plain": [
              "<Figure size 432x288 with 1 Axes>"
            ]
          },
          "metadata": {
            "needs_background": "light"
          }
        }
      ]
    },
    {
      "cell_type": "markdown",
      "metadata": {
        "id": "qoBHMyRfmAjf"
      },
      "source": [
        "## Visualize accuracy trace"
      ]
    },
    {
      "cell_type": "code",
      "metadata": {
        "id": "ORs4ufQkmM1y",
        "colab": {
          "base_uri": "https://localhost:8080/",
          "height": 297
        },
        "outputId": "63ae429f-3615-402a-ecdc-af0f0178a008"
      },
      "source": [
        "plt.plot(acc_trace)\n",
        "plt.ylabel('accuracy')\n",
        "plt.xlabel('epochs')\n",
        "plt.show()\n",
        "\n",
        "# TODO: your job - print out the final accuracy\n",
        "print(acc_trace[-1])"
      ],
      "execution_count": null,
      "outputs": [
        {
          "output_type": "display_data",
          "data": {
            "image/png": "[encoded data removed]",
            "text/plain": [
              "<Figure size 432x288 with 1 Axes>"
            ]
          },
          "metadata": {
            "needs_background": "light"
          }
        },
        {
          "output_type": "stream",
          "name": "stdout",
          "text": [
            "0.7352941176470589\n"
          ]
        }
      ]
    },
    {
      "cell_type": "markdown",
      "metadata": {
        "id": "dRD9UgIBg_v8"
      },
      "source": [
        "### ❔ Compare the final accuracy with the accuracy result of kernel trick in Step2. \n",
        "### 🗒 Answer here: MLP result is Less accurate than using kernel tricks."
      ]
    }
  ]
}