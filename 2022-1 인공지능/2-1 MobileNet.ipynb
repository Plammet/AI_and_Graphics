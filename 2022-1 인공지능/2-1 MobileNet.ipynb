{
  "nbformat": 4,
  "nbformat_minor": 0,
  "metadata": {
    "colab": {
      "name": "HW2-1.ipynb",
      "provenance": [],
      "collapsed_sections": []
    },
    "kernelspec": {
      "name": "python3",
      "display_name": "Python 3"
    },
    "language_info": {
      "name": "python"
    },
    "accelerator": "GPU"
  },
  "cells": [
    {
      "cell_type": "code",
      "execution_count": 56,
      "metadata": {
        "id": "89Bifchm5QYd"
      },
      "outputs": [],
      "source": [
        "import numpy as np\n",
        "import tensorflow as tf\n",
        "import matplotlib.pyplot as plt"
      ]
    },
    {
      "cell_type": "code",
      "source": [
        "from keras.datasets import cifar10\n",
        "(X_train, Y_train), (X_test, Y_test) = cifar10.load_data()"
      ],
      "metadata": {
        "id": "QCZuhyIG7mRu"
      },
      "execution_count": 57,
      "outputs": []
    },
    {
      "cell_type": "code",
      "source": [
        "X_train = X_train.astype('float32')\n",
        "X_test = X_test.astype('float32')\n",
        "X_train /= 255.0\n",
        "X_test /= 255.0"
      ],
      "metadata": {
        "id": "KCaVRNvC85zl"
      },
      "execution_count": 58,
      "outputs": []
    },
    {
      "cell_type": "code",
      "source": [
        "from sklearn.model_selection import train_test_split\n",
        "X_train, X_val, Y_train, Y_val = train_test_split(X_train, Y_train, test_size = 0.2,shuffle = True)"
      ],
      "metadata": {
        "id": "dfyIJ66z-43T"
      },
      "execution_count": 59,
      "outputs": []
    },
    {
      "cell_type": "code",
      "source": [
        "from sklearn.preprocessing import OneHotEncoder\n",
        "encoder = OneHotEncoder()\n",
        "encoder.fit(Y_train)\n",
        "Y_train = encoder.transform(Y_train).toarray()\n",
        "Y_val = encoder.transform(Y_val).toarray()\n",
        "Y_test = encoder.transform(Y_test).toarray()"
      ],
      "metadata": {
        "id": "aF8wJwDDSUXT"
      },
      "execution_count": 60,
      "outputs": []
    },
    {
      "cell_type": "code",
      "source": [
        "class MobileNet(tf.keras.Model):\n",
        "  def __init__(self, num_classes):\n",
        "    super(MobileNet, self).__init__(name='')\n",
        "\n",
        "    self.conv0 = tf.keras.layers.Conv2D(32, kernel_size=(3,3), strides=2)\n",
        "    self.batchNorm0 = self.batchNorm1_1 = tf.keras.layers.BatchNormalization()\n",
        "    self.relu0 = self.relu1_1 = tf.keras.layers.Activation('relu')\n",
        "    \n",
        "    self.convDw1 = tf.keras.layers.DepthwiseConv2D(kernel_size=(3,3), strides=1, padding = 'same')\n",
        "    self.batchNorm1_1 = tf.keras.layers.BatchNormalization()\n",
        "    self.relu1_1 = tf.keras.layers.Activation('relu')\n",
        "    self.conv1 = tf.keras.layers.Conv2D(64, kernel_size=(1,1), strides=1, padding = 'same')\n",
        "    self.batchNorm1_2 = tf.keras.layers.BatchNormalization()\n",
        "    self.relu1_2 = tf.keras.layers.Activation('relu')\n",
        "    \n",
        "    self.convDw2 = tf.keras.layers.DepthwiseConv2D(kernel_size=(3,3), strides=2, padding = 'same')\n",
        "    self.batchNorm2_1 = tf.keras.layers.BatchNormalization()\n",
        "    self.relu2_1 = tf.keras.layers.Activation('relu')\n",
        "    self.conv2 = tf.keras.layers.Conv2D(128, kernel_size=(1,1), strides=1, padding = 'same')\n",
        "    self.batchNorm2_2 = tf.keras.layers.BatchNormalization()\n",
        "    self.relu2_2 = tf.keras.layers.Activation('relu')\n",
        "    \n",
        "    self.convDw3 = tf.keras.layers.DepthwiseConv2D(kernel_size=(3,3), strides=1, padding = 'same')\n",
        "    self.batchNorm3_1 = tf.keras.layers.BatchNormalization()\n",
        "    self.relu3_1 = tf.keras.layers.Activation('relu')\n",
        "    self.conv3 = tf.keras.layers.Conv2D(128, kernel_size=(1,1), strides=1, padding = 'same')\n",
        "    self.batchNorm3_2 = tf.keras.layers.BatchNormalization()\n",
        "    self.relu3_2 = tf.keras.layers.Activation('relu')\n",
        "    \n",
        "    self.convDw4 = tf.keras.layers.DepthwiseConv2D(kernel_size=(3,3), strides=2, padding = 'same')\n",
        "    self.batchNorm4_1 = tf.keras.layers.BatchNormalization()\n",
        "    self.relu4_1 = tf.keras.layers.Activation('relu')\n",
        "    self.conv4 = tf.keras.layers.Conv2D(256, kernel_size=(1,1), strides=1, padding = 'same')\n",
        "    self.batchNorm4_2 = tf.keras.layers.BatchNormalization()\n",
        "    self.relu4_2 = tf.keras.layers.Activation('relu')\n",
        "    \n",
        "    self.convDw5 = tf.keras.layers.DepthwiseConv2D(kernel_size=(3,3), strides=1, padding = 'same')\n",
        "    self.batchNorm5_1 = tf.keras.layers.BatchNormalization()\n",
        "    self.relu5_1 = tf.keras.layers.Activation('relu')\n",
        "    self.conv5 = tf.keras.layers.Conv2D(256, kernel_size=(1,1), strides=1, padding = 'same')\n",
        "    self.batchNorm5_2 = tf.keras.layers.BatchNormalization()\n",
        "    self.relu5_2 = tf.keras.layers.Activation('relu')\n",
        "    \n",
        "    self.avgPool = tf.keras.layers.GlobalAveragePooling2D()\n",
        "    self.flat = tf.keras.layers.Flatten()\n",
        "    self.fc = tf.keras.layers.Dense(num_classes, activation = 'softmax')\n",
        "\n",
        "  def call(self, inputs):\n",
        "    x = self.conv0(inputs)\n",
        "    x = self.batchNorm0(x)\n",
        "    x = self.relu0(x)\n",
        "\n",
        "    x = self.convDw1(x)\n",
        "    x = self.batchNorm1_1(x)\n",
        "    x = self.relu1_1(x)\n",
        "    x = self.conv1(x)\n",
        "    x = self.batchNorm1_2(x)\n",
        "    x = self.relu1_2(x)\n",
        "\n",
        "    x = self.convDw2(x)\n",
        "    x = self.batchNorm2_1(x)\n",
        "    x = self.relu2_1(x)\n",
        "    x = self.conv2(x)\n",
        "    x = self.batchNorm2_2(x)\n",
        "    x = self.relu2_2(x)\n",
        "\n",
        "    x = self.convDw3(x)\n",
        "    x = self.batchNorm3_1(x)\n",
        "    x = self.relu3_1(x)\n",
        "    x = self.conv3(x)\n",
        "    x = self.batchNorm3_2(x)\n",
        "    x = self.relu3_2(x)\n",
        "\n",
        "    x = self.convDw4(x)\n",
        "    x = self.batchNorm4_1(x)\n",
        "    x = self.relu4_1(x)\n",
        "    x = self.conv4(x)\n",
        "    x = self.batchNorm4_2(x)\n",
        "    x = self.relu4_2(x)\n",
        "\n",
        "    x = self.convDw5(x)\n",
        "    x = self.batchNorm5_1(x)\n",
        "    x = self.relu5_1(x)\n",
        "    x = self.conv5(x)\n",
        "    x = self.batchNorm5_2(x)\n",
        "    x = self.relu5_2(x)\n",
        "\n",
        "    x = self.avgPool(x)\n",
        "    x = self.flat(x)\n",
        "    out = self.fc(x)\n",
        "\n",
        "    return out\n"
      ],
      "metadata": {
        "id": "6Tfnjjpc_DWd"
      },
      "execution_count": 61,
      "outputs": []
    },
    {
      "cell_type": "code",
      "source": [
        "model = MobileNet(10)\n",
        "model.compile(optimizer = 'adam', loss = 'categorical_crossentropy', metrics=['accuracy'])\n",
        "\n",
        "history = model.fit(X_train, Y_train, batch_size = 256, epochs=10, validation_data = (X_val, Y_val))"
      ],
      "metadata": {
        "colab": {
          "base_uri": "https://localhost:8080/"
        },
        "id": "6fkhzBINCTo1",
        "outputId": "dde8c4aa-4d36-4572-b42f-36f6c049ae22"
      },
      "execution_count": 62,
      "outputs": [
        {
          "output_type": "stream",
          "name": "stdout",
          "text": [
            "Epoch 1/10\n",
            "157/157 [==============================] - 9s 43ms/step - loss: 1.5756 - accuracy: 0.4236 - val_loss: 2.6873 - val_accuracy: 0.0995\n",
            "Epoch 2/10\n",
            "157/157 [==============================] - 6s 39ms/step - loss: 1.2196 - accuracy: 0.5598 - val_loss: 3.4102 - val_accuracy: 0.0997\n",
            "Epoch 3/10\n",
            "157/157 [==============================] - 6s 39ms/step - loss: 1.0664 - accuracy: 0.6180 - val_loss: 3.5798 - val_accuracy: 0.1091\n",
            "Epoch 4/10\n",
            "157/157 [==============================] - 6s 39ms/step - loss: 0.9501 - accuracy: 0.6636 - val_loss: 1.6182 - val_accuracy: 0.4271\n",
            "Epoch 5/10\n",
            "157/157 [==============================] - 6s 41ms/step - loss: 0.8593 - accuracy: 0.6968 - val_loss: 1.2651 - val_accuracy: 0.5596\n",
            "Epoch 6/10\n",
            "157/157 [==============================] - 6s 39ms/step - loss: 0.7804 - accuracy: 0.7239 - val_loss: 1.3754 - val_accuracy: 0.5563\n",
            "Epoch 7/10\n",
            "157/157 [==============================] - 6s 39ms/step - loss: 0.7081 - accuracy: 0.7499 - val_loss: 1.3825 - val_accuracy: 0.5629\n",
            "Epoch 8/10\n",
            "157/157 [==============================] - 6s 39ms/step - loss: 0.6370 - accuracy: 0.7792 - val_loss: 1.1948 - val_accuracy: 0.6165\n",
            "Epoch 9/10\n",
            "157/157 [==============================] - 6s 39ms/step - loss: 0.5888 - accuracy: 0.7963 - val_loss: 1.3250 - val_accuracy: 0.5976\n",
            "Epoch 10/10\n",
            "157/157 [==============================] - 6s 40ms/step - loss: 0.5354 - accuracy: 0.8135 - val_loss: 1.2520 - val_accuracy: 0.6070\n"
          ]
        }
      ]
    },
    {
      "cell_type": "code",
      "source": [
        "plt.plot(history.history['accuracy'])\n",
        "plt.plot(history.history['val_accuracy'])\n",
        "plt.legend(['Train', 'Val'], loc = 'lower right')\n",
        "plt.ylabel('accuracy')\n",
        "plt.xlabel('epochs')\n",
        "plt.show()\n"
      ],
      "metadata": {
        "colab": {
          "base_uri": "https://localhost:8080/",
          "height": 279
        },
        "id": "VtsMeeWSH15S",
        "outputId": "2720465e-2c9a-45a4-f9c5-b01ab0546992"
      },
      "execution_count": 63,
      "outputs": [
        {
          "output_type": "display_data",
          "data": {
            "text/plain": [
              "<Figure size 432x288 with 1 Axes>"
            ],
            "image/png": "[encoded data removed]"
          },
          "metadata": {
            "needs_background": "light"
          }
        }
      ]
    },
    {
      "cell_type": "code",
      "source": [
        "model.evaluate(X_test, Y_test)"
      ],
      "metadata": {
        "colab": {
          "base_uri": "https://localhost:8080/"
        },
        "id": "cPG9-Jw0Vj8x",
        "outputId": "9ad87bcc-c979-4e29-e24d-6809c8bdee1d"
      },
      "execution_count": 64,
      "outputs": [
        {
          "output_type": "stream",
          "name": "stdout",
          "text": [
            "313/313 [==============================] - 2s 6ms/step - loss: 1.2684 - accuracy: 0.5963\n"
          ]
        },
        {
          "output_type": "execute_result",
          "data": {
            "text/plain": [
              "[1.2683643102645874, 0.5963000059127808]"
            ]
          },
          "metadata": {},
          "execution_count": 64
        }
      ]
    }
  ]
}