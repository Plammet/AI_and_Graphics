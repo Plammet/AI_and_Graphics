{
  "nbformat": 4,
  "nbformat_minor": 0,
  "metadata": {
    "colab": {
      "name": "HW2-2.ipynb",
      "provenance": [],
      "collapsed_sections": []
    },
    "kernelspec": {
      "name": "python3",
      "display_name": "Python 3"
    },
    "language_info": {
      "name": "python"
    },
    "accelerator": "GPU"
  },
  "cells": [
    {
      "cell_type": "code",
      "execution_count": 83,
      "metadata": {
        "id": "89Bifchm5QYd"
      },
      "outputs": [],
      "source": [
        "import numpy as np\n",
        "import tensorflow as tf\n",
        "import matplotlib.pyplot as plt"
      ]
    },
    {
      "cell_type": "code",
      "source": [
        "from keras.datasets import cifar10\n",
        "(X_train, Y_train), (X_test, Y_test) = cifar10.load_data()"
      ],
      "metadata": {
        "id": "QCZuhyIG7mRu"
      },
      "execution_count": 84,
      "outputs": []
    },
    {
      "cell_type": "code",
      "source": [
        "X_train = X_train.astype('float32')\n",
        "X_test = X_test.astype('float32')\n",
        "X_train /= 255.0\n",
        "X_test /= 255.0"
      ],
      "metadata": {
        "id": "KCaVRNvC85zl"
      },
      "execution_count": 85,
      "outputs": []
    },
    {
      "cell_type": "code",
      "source": [
        "from sklearn.model_selection import train_test_split\n",
        "X_train, X_val, Y_train, Y_val = train_test_split(X_train, Y_train, test_size = 0.2,shuffle = True)"
      ],
      "metadata": {
        "id": "dfyIJ66z-43T"
      },
      "execution_count": 86,
      "outputs": []
    },
    {
      "cell_type": "code",
      "source": [
        "from sklearn.preprocessing import OneHotEncoder\n",
        "encoder = OneHotEncoder()\n",
        "encoder.fit(Y_train)\n",
        "Y_train = encoder.transform(Y_train).toarray()\n",
        "Y_val = encoder.transform(Y_val).toarray()\n",
        "Y_test = encoder.transform(Y_test).toarray()"
      ],
      "metadata": {
        "id": "aF8wJwDDSUXT"
      },
      "execution_count": 87,
      "outputs": []
    },
    {
      "cell_type": "markdown",
      "source": [
        "정확도를 개선하기 위해 Regularization 방법 중 하나인 data Augmentation을 사용하였습니다."
      ],
      "metadata": {
        "id": "TJrrJKkCZOmm"
      }
    },
    {
      "cell_type": "code",
      "source": [
        "from keras.preprocessing.image import ImageDataGenerator\n",
        "aug = ImageDataGenerator(horizontal_flip=True, width_shift_range=0.05,\n",
        "                             height_shift_range=0.05)\n",
        "aug.fit(X_train)"
      ],
      "metadata": {
        "id": "ZOv8clMbX1D4"
      },
      "execution_count": 88,
      "outputs": []
    },
    {
      "cell_type": "code",
      "source": [
        "class MobileNet(tf.keras.Model):\n",
        "  def __init__(self, num_classes):\n",
        "    super(MobileNet, self).__init__(name='')\n",
        "\n",
        "    self.conv0 = tf.keras.layers.Conv2D(32, kernel_size=(3,3), strides=2)\n",
        "    self.batchNorm0 = self.batchNorm1_1 = tf.keras.layers.BatchNormalization()\n",
        "    self.relu0 = self.relu1_1 = tf.keras.layers.Activation('relu')\n",
        "    \n",
        "    self.convDw1 = tf.keras.layers.DepthwiseConv2D(kernel_size=(3,3), strides=1, padding = 'same')\n",
        "    self.batchNorm1_1 = tf.keras.layers.BatchNormalization()\n",
        "    self.relu1_1 = tf.keras.layers.Activation('relu')\n",
        "    self.conv1 = tf.keras.layers.Conv2D(64, kernel_size=(1,1), strides=1, padding = 'same')\n",
        "    self.batchNorm1_2 = tf.keras.layers.BatchNormalization()\n",
        "    self.relu1_2 = tf.keras.layers.Activation('relu')\n",
        "    \n",
        "    self.convDw2 = tf.keras.layers.DepthwiseConv2D(kernel_size=(3,3), strides=2, padding = 'same')\n",
        "    self.batchNorm2_1 = tf.keras.layers.BatchNormalization()\n",
        "    self.relu2_1 = tf.keras.layers.Activation('relu')\n",
        "    self.conv2 = tf.keras.layers.Conv2D(128, kernel_size=(1,1), strides=1, padding = 'same')\n",
        "    self.batchNorm2_2 = tf.keras.layers.BatchNormalization()\n",
        "    self.relu2_2 = tf.keras.layers.Activation('relu')\n",
        "    \n",
        "    self.convDw3 = tf.keras.layers.DepthwiseConv2D(kernel_size=(3,3), strides=1, padding = 'same')\n",
        "    self.batchNorm3_1 = tf.keras.layers.BatchNormalization()\n",
        "    self.relu3_1 = tf.keras.layers.Activation('relu')\n",
        "    self.conv3 = tf.keras.layers.Conv2D(128, kernel_size=(1,1), strides=1, padding = 'same')\n",
        "    self.batchNorm3_2 = tf.keras.layers.BatchNormalization()\n",
        "    self.relu3_2 = tf.keras.layers.Activation('relu')\n",
        "    \n",
        "    self.convDw4 = tf.keras.layers.DepthwiseConv2D(kernel_size=(3,3), strides=2, padding = 'same')\n",
        "    self.batchNorm4_1 = tf.keras.layers.BatchNormalization()\n",
        "    self.relu4_1 = tf.keras.layers.Activation('relu')\n",
        "    self.conv4 = tf.keras.layers.Conv2D(256, kernel_size=(1,1), strides=1, padding = 'same')\n",
        "    self.batchNorm4_2 = tf.keras.layers.BatchNormalization()\n",
        "    self.relu4_2 = tf.keras.layers.Activation('relu')\n",
        "    \n",
        "    self.convDw5 = tf.keras.layers.DepthwiseConv2D(kernel_size=(3,3), strides=1, padding = 'same')\n",
        "    self.batchNorm5_1 = tf.keras.layers.BatchNormalization()\n",
        "    self.relu5_1 = tf.keras.layers.Activation('relu')\n",
        "    self.conv5 = tf.keras.layers.Conv2D(256, kernel_size=(1,1), strides=1, padding = 'same')\n",
        "    self.batchNorm5_2 = tf.keras.layers.BatchNormalization()\n",
        "    self.relu5_2 = tf.keras.layers.Activation('relu')\n",
        "    \n",
        "    self.avgPool = tf.keras.layers.GlobalAveragePooling2D()\n",
        "    self.flat = tf.keras.layers.Flatten()\n",
        "    self.fc = tf.keras.layers.Dense(num_classes, activation = 'softmax')\n",
        "\n",
        "  def call(self, inputs):\n",
        "    x = self.conv0(inputs)\n",
        "    x = self.batchNorm0(x)\n",
        "    x = self.relu0(x)\n",
        "\n",
        "    x = self.convDw1(x)\n",
        "    x = self.batchNorm1_1(x)\n",
        "    x = self.relu1_1(x)\n",
        "    x = self.conv1(x)\n",
        "    x = self.batchNorm1_2(x)\n",
        "    x = self.relu1_2(x)\n",
        "\n",
        "    x = self.convDw2(x)\n",
        "    x = self.batchNorm2_1(x)\n",
        "    x = self.relu2_1(x)\n",
        "    x = self.conv2(x)\n",
        "    x = self.batchNorm2_2(x)\n",
        "    x = self.relu2_2(x)\n",
        "\n",
        "    x = self.convDw3(x)\n",
        "    x = self.batchNorm3_1(x)\n",
        "    x = self.relu3_1(x)\n",
        "    x = self.conv3(x)\n",
        "    x = self.batchNorm3_2(x)\n",
        "    x = self.relu3_2(x)\n",
        "\n",
        "    x = self.convDw4(x)\n",
        "    x = self.batchNorm4_1(x)\n",
        "    x = self.relu4_1(x)\n",
        "    x = self.conv4(x)\n",
        "    x = self.batchNorm4_2(x)\n",
        "    x = self.relu4_2(x)\n",
        "\n",
        "    x = self.convDw5(x)\n",
        "    x = self.batchNorm5_1(x)\n",
        "    x = self.relu5_1(x)\n",
        "    x = self.conv5(x)\n",
        "    x = self.batchNorm5_2(x)\n",
        "    x = self.relu5_2(x)\n",
        "\n",
        "    x = self.avgPool(x)\n",
        "    x = self.flat(x)\n",
        "    out = self.fc(x)\n",
        "\n",
        "    return out\n"
      ],
      "metadata": {
        "id": "6Tfnjjpc_DWd"
      },
      "execution_count": 89,
      "outputs": []
    },
    {
      "cell_type": "code",
      "source": [
        "model = MobileNet(10)\n",
        "model.compile(optimizer = 'adam', loss = 'categorical_crossentropy', metrics=['accuracy'])\n",
        "\n",
        "history = model.fit(aug.flow(X_train,Y_train,batch_size = 256), batch_size=256, epochs=10, validation_data=(X_val, Y_val))"
      ],
      "metadata": {
        "colab": {
          "base_uri": "https://localhost:8080/"
        },
        "id": "6fkhzBINCTo1",
        "outputId": "7bb0427f-4463-4401-89e9-78a969abbb20"
      },
      "execution_count": 90,
      "outputs": [
        {
          "output_type": "stream",
          "name": "stdout",
          "text": [
            "Epoch 1/10\n",
            "157/157 [==============================] - 28s 168ms/step - loss: 1.6087 - accuracy: 0.4107 - val_loss: 2.8592 - val_accuracy: 0.1003\n",
            "Epoch 2/10\n",
            "157/157 [==============================] - 27s 173ms/step - loss: 1.2807 - accuracy: 0.5380 - val_loss: 3.4283 - val_accuracy: 0.1090\n",
            "Epoch 3/10\n",
            "157/157 [==============================] - 27s 169ms/step - loss: 1.1475 - accuracy: 0.5879 - val_loss: 3.9147 - val_accuracy: 0.1046\n",
            "Epoch 4/10\n",
            "157/157 [==============================] - 26s 166ms/step - loss: 1.0558 - accuracy: 0.6235 - val_loss: 1.2200 - val_accuracy: 0.5673\n",
            "Epoch 5/10\n",
            "157/157 [==============================] - 26s 168ms/step - loss: 0.9839 - accuracy: 0.6520 - val_loss: 1.1016 - val_accuracy: 0.6092\n",
            "Epoch 6/10\n",
            "157/157 [==============================] - 26s 168ms/step - loss: 0.9241 - accuracy: 0.6728 - val_loss: 1.1407 - val_accuracy: 0.6006\n",
            "Epoch 7/10\n",
            "157/157 [==============================] - 26s 163ms/step - loss: 0.8737 - accuracy: 0.6892 - val_loss: 1.1993 - val_accuracy: 0.5953\n",
            "Epoch 8/10\n",
            "157/157 [==============================] - 27s 172ms/step - loss: 0.8282 - accuracy: 0.7061 - val_loss: 0.9768 - val_accuracy: 0.6580\n",
            "Epoch 9/10\n",
            "157/157 [==============================] - 26s 163ms/step - loss: 0.7850 - accuracy: 0.7224 - val_loss: 0.9693 - val_accuracy: 0.6727\n",
            "Epoch 10/10\n",
            "157/157 [==============================] - 27s 175ms/step - loss: 0.7528 - accuracy: 0.7363 - val_loss: 1.1174 - val_accuracy: 0.6330\n"
          ]
        }
      ]
    },
    {
      "cell_type": "code",
      "source": [
        "plt.plot(history.history['accuracy'])\n",
        "plt.plot(history.history['val_accuracy'])\n",
        "plt.legend(['Train', 'Val'], loc = 'lower right')\n",
        "plt.ylabel('accuracy')\n",
        "plt.xlabel('epochs')\n",
        "plt.show()\n"
      ],
      "metadata": {
        "colab": {
          "base_uri": "https://localhost:8080/",
          "height": 279
        },
        "id": "VtsMeeWSH15S",
        "outputId": "b8c79024-35c1-440b-cb36-652cdf50034c"
      },
      "execution_count": 91,
      "outputs": [
        {
          "output_type": "display_data",
          "data": {
            "text/plain": [
              "<Figure size 432x288 with 1 Axes>"
            ],
            "image/png": "[encoded data removed]"
          },
          "metadata": {
            "needs_background": "light"
          }
        }
      ]
    },
    {
      "cell_type": "code",
      "source": [
        "model.evaluate(X_test, Y_test)"
      ],
      "metadata": {
        "colab": {
          "base_uri": "https://localhost:8080/"
        },
        "id": "cPG9-Jw0Vj8x",
        "outputId": "9bfa853e-e6bd-4b72-e3f5-1f53224ad021"
      },
      "execution_count": 92,
      "outputs": [
        {
          "output_type": "stream",
          "name": "stdout",
          "text": [
            "313/313 [==============================] - 2s 6ms/step - loss: 1.1039 - accuracy: 0.6356\n"
          ]
        },
        {
          "output_type": "execute_result",
          "data": {
            "text/plain": [
              "[1.103898525238037, 0.6355999708175659]"
            ]
          },
          "metadata": {},
          "execution_count": 92
        }
      ]
    }
  ]
}