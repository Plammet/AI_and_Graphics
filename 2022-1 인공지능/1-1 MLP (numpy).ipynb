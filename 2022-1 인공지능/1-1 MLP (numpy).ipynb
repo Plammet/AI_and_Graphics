{
  "nbformat": 4,
  "nbformat_minor": 0,
  "metadata": {
    "colab": {
      "name": "HW1-1.ipynb",
      "provenance": [],
      "collapsed_sections": []
    },
    "kernelspec": {
      "name": "python3",
      "display_name": "Python 3"
    },
    "language_info": {
      "name": "python"
    }
  },
  "cells": [
    {
      "cell_type": "markdown",
      "source": [
        "### 2022-1 Artificial Intelligence (01)\n",
        "## Homework #1: MLP from the scratch\n",
        "---\n",
        "Copyright (c) Prof. Jaehyeong Sim \n",
        "\n",
        "Department of Computer Science and Engineering\n",
        "\n",
        "Ewha Womans University"
      ],
      "metadata": {
        "id": "JJeY52mkwqe5"
      }
    },
    {
      "cell_type": "code",
      "source": [
        "import numpy as np"
      ],
      "metadata": {
        "id": "LOgtScJ6VfFi"
      },
      "execution_count": 526,
      "outputs": []
    },
    {
      "cell_type": "code",
      "source": [
        "# Sigmoid function\n",
        "def sigmoid(x):\n",
        "  # Problem 1.(a): fill here\n",
        "  return 1/(1+np.exp(-x))\n",
        "\n",
        "# Derivative of sigmoid function\n",
        "def dsigmoid(x):\n",
        "  # Problem 1.(a): fill here\n",
        "  return sigmoid(x) * (1-sigmoid(x))\n",
        "\n",
        "# Hyperbolic tangent function\n",
        "def tanh(x):\n",
        "  # Problem 1.(a): fill here\n",
        "  return np.tanh(x)\n",
        "\n",
        "# Derivative of hyperbolic tangent function\n",
        "def dtanh(x):\n",
        "  # Problem 1.(a): fill here\n",
        "  return 1-(tanh(x)*tanh(x))"
      ],
      "metadata": {
        "id": "Hw2ul1L7Vg5c"
      },
      "execution_count": 527,
      "outputs": []
    },
    {
      "cell_type": "code",
      "source": [
        "# Mean squared error function\n",
        "def MSE(O, T):\n",
        "  # Problem 1.(b): fill here\n",
        "  N = O.shape[0]\n",
        "  sum = 0;\n",
        "\n",
        "  for i in range (N) :\n",
        "    sum += (O[i,0] - T[i]) * (O[i,0] - T[i])\n",
        "  \n",
        "  sum /= N\n",
        "  return sum\n",
        "\n",
        "def dMSE(O, T):\n",
        "  # Problem 1.(b): fill here\n",
        "  return (O[:,0] - T).reshape((T.size), 1)"
      ],
      "metadata": {
        "id": "g0MG-Fl4IMd_"
      },
      "execution_count": 528,
      "outputs": []
    },
    {
      "cell_type": "code",
      "source": [
        "class MLP:\n",
        "\n",
        "  def __init__(self, learning_rate=0.05, n_epochs=100000, n_inputs=2, n_hiddens=2, n_outputs=1):\n",
        "    self.lr = learning_rate\n",
        "    self.n_epochs = n_epochs\n",
        "    \n",
        "    self.n_inputs = n_inputs\n",
        "    self.n_hiddens = n_hiddens\n",
        "    self.n_outputs = n_outputs\n",
        "\n",
        "    self.first_layer_activation_func = tanh\n",
        "    self.first_layer_dactivation_func = dtanh\n",
        "    self.second_layer_activation_func = sigmoid\n",
        "    self.second_layer_dactivation_func = dsigmoid\n",
        "    self.loss_func = MSE\n",
        "    self.dloss_func = dMSE\n",
        "    self.first_layer_weights = None\n",
        "    self.first_layer_bias = None\n",
        "    self.second_layer_weights = None\n",
        "    self.second_layer_bias = None\n",
        "\n",
        "  def _init_params(self,X):\n",
        "    # Problem 1.(c): fill here\n",
        "    N = X.shape[0]\n",
        "    np.random.seed(42)\n",
        "    self.first_layer_weights = np.random.rand(self.n_inputs, self.n_hiddens)\n",
        "    self.first_layer_bias = np.zeros((N, self.n_hiddens))\n",
        "    self.second_layer_weights = np.random.rand(self.n_hiddens, self.n_outputs)\n",
        "    self.second_layer_bias = np.zeros((N, self.n_outputs))\n",
        "\n",
        "  def _forward(self, X, T):\n",
        "    # Problem 1.(d): fill here\n",
        "    Z1 = np.dot(X, self.first_layer_weights) + self.first_layer_bias\n",
        "    A1 = self.first_layer_activation_func(Z1)\n",
        "\n",
        "    Z2 = np.dot(A1, self.second_layer_weights) + self.second_layer_bias\n",
        "    A2 = self.second_layer_activation_func(Z2)\n",
        "\n",
        "    if T is None:\n",
        "      return A2\n",
        "\n",
        "    loss = self.loss_func(A2, T)\n",
        "    return Z1, A1, Z2, A2, loss;\n",
        "\n",
        "  def _backward(self, X, Z1, A1, Z2, A2, T):\n",
        "    # Problem 1.(e): fill here\n",
        "    N = X.shape[0]\n",
        "\n",
        "    err2 = self.dloss_func(A2, T) * self.second_layer_dactivation_func(Z2)\n",
        "    dW2 =  np.dot(A1.T, err2)\n",
        "    dB2 = np.zeros((N, self.n_outputs))\n",
        "\n",
        "    for i in range(N):\n",
        "      for j in range(self.n_outputs):\n",
        "        dB2[:,j] += (err2[i,j])/N\n",
        "\n",
        "    err1 = np.dot(err2, self.second_layer_weights.T) * self.first_layer_dactivation_func(Z1)\n",
        "    dW1 = np.dot(X.T, err1)\n",
        "    dB1 = np.zeros((N, self.n_hiddens))\n",
        "\n",
        "    for i in range(N):\n",
        "      for j in range(self.n_hiddens):\n",
        "        dB1[:,j] += (err1[i,j])/N\n",
        "\n",
        "    return dW1, dB1, dW2, dB2\n",
        "\n",
        "  def predict(self, X):\n",
        "    return self._forward(X, None)\n",
        "\n",
        "  def fit(self, X, T):\n",
        "    \n",
        "    self._init_params(X)\n",
        "    loss_trace = []\n",
        "\n",
        "    for _ in range(self.n_epochs):\n",
        "      Z1, A1, Z2, A2, loss = self._forward(X, T)\n",
        "      dW1, dB1, dW2, dB2 = self._backward(X, Z1, A1, Z2, A2, T)\n",
        "      \n",
        "      # Problem 1.(f): fill here\n",
        "      self.first_layer_weights -= self.lr * dW1\n",
        "      self.first_layer_bias -= self.lr * dB1\n",
        "      self.second_layer_weights -= self.lr * dW2\n",
        "      self.second_layer_bias -= self.lr * dB2\n",
        "      \n",
        "      loss_trace.append(loss)\n",
        "\n",
        "    return loss_trace"
      ],
      "metadata": {
        "id": "g8VxeUNJWUQi"
      },
      "execution_count": 529,
      "outputs": []
    },
    {
      "cell_type": "markdown",
      "source": [
        ""
      ],
      "metadata": {
        "id": "J3mWThfDs2GE"
      }
    },
    {
      "cell_type": "code",
      "source": [
        "# Problem 1.(g): fill here\n",
        "X = np.array([[0,0], [0,1], [1,0], [1,1]])\n",
        "T = np.array([0,1,1,0])\n",
        "\n",
        "mlp = MLP()\n",
        "loss_trace = mlp.fit(X, T)"
      ],
      "metadata": {
        "id": "LrrU89LYg9Ch"
      },
      "execution_count": 530,
      "outputs": []
    },
    {
      "cell_type": "code",
      "source": [
        "import matplotlib.pyplot as plt\n",
        "\n",
        "plt.plot(loss_trace)\n",
        "plt.ylabel('loss')\n",
        "plt.xlabel('epochs')\n",
        "plt.show()"
      ],
      "metadata": {
        "colab": {
          "base_uri": "https://localhost:8080/",
          "height": 279
        },
        "id": "HHn035KyleRt",
        "outputId": "39dd072b-c881-41e6-8e1b-35f2d2520e53"
      },
      "execution_count": 531,
      "outputs": [
        {
          "output_type": "display_data",
          "data": {
            "text/plain": [
              "<Figure size 432x288 with 1 Axes>"
            ],
            "image/png": "[encoded data removed]"
          },
          "metadata": {
            "needs_background": "light"
          }
        }
      ]
    },
    {
      "cell_type": "code",
      "source": [
        "# Print out XOR outputs for an input matrix X\n",
        "print(mlp.predict(X))"
      ],
      "metadata": {
        "colab": {
          "base_uri": "https://localhost:8080/"
        },
        "id": "1vzx3NJTlodj",
        "outputId": "a16a58b0-4adb-4097-9a2a-2fd74dd25ef6"
      },
      "execution_count": 532,
      "outputs": [
        {
          "output_type": "stream",
          "name": "stdout",
          "text": [
            "[[0.01639764]\n",
            " [0.99185267]\n",
            " [0.9918511 ]\n",
            " [0.01746721]]\n"
          ]
        }
      ]
    }
  ]
}