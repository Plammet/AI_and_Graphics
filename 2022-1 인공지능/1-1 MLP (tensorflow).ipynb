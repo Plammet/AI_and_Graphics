{
  "nbformat": 4,
  "nbformat_minor": 0,
  "metadata": {
    "colab": {
      "name": "HW1-2.ipynb",
      "provenance": [],
      "collapsed_sections": []
    },
    "kernelspec": {
      "name": "python3",
      "display_name": "Python 3"
    },
    "language_info": {
      "name": "python"
    }
  },
  "cells": [
    {
      "cell_type": "code",
      "execution_count": 325,
      "metadata": {
        "id": "hypBfM0uIGRL"
      },
      "outputs": [],
      "source": [
        "import numpy as np\n",
        "import tensorflow as tf\n",
        "\n",
        "model = tf.keras.Sequential(\n",
        "    [\n",
        "    tf.keras.layers.Dense(2, activation='tanh'),\n",
        "    tf.keras.layers.Dense(1, activation='sigmoid')\n",
        "    ]\n",
        ")"
      ]
    },
    {
      "cell_type": "code",
      "source": [
        "sgd = tf.keras.optimizers.SGD(learning_rate=0.1)\n",
        "model.compile(loss='mse', optimizer = sgd)"
      ],
      "metadata": {
        "id": "FZ-h423tIUF4"
      },
      "execution_count": 326,
      "outputs": []
    },
    {
      "cell_type": "markdown",
      "source": [
        ""
      ],
      "metadata": {
        "id": "j4kJ9u0xIze-"
      }
    },
    {
      "cell_type": "code",
      "source": [
        "X = np.array([[0,0], [0,1], [1,0], [1,1]])\n",
        "y = np.array([0, 1, 1, 0])"
      ],
      "metadata": {
        "id": "_tVQWwzeZBGE"
      },
      "execution_count": 327,
      "outputs": []
    },
    {
      "cell_type": "code",
      "source": [
        "result = model.fit(X, y, epochs=10000, verbose=0)"
      ],
      "metadata": {
        "id": "-Cn4IlkFZFCF"
      },
      "execution_count": 328,
      "outputs": []
    },
    {
      "cell_type": "code",
      "source": [
        "import matplotlib.pyplot as plt\n",
        "\n",
        "plt.plot(result.history['loss'])\n",
        "plt.ylabel('loss')\n",
        "plt.xlabel('epochs')\n",
        "plt.show()"
      ],
      "metadata": {
        "colab": {
          "base_uri": "https://localhost:8080/",
          "height": 279
        },
        "id": "jolR6tvdetq8",
        "outputId": "9304cf05-7c44-48d7-90f2-00b8fd3318f1"
      },
      "execution_count": 329,
      "outputs": [
        {
          "output_type": "display_data",
          "data": {
            "text/plain": [
              "<Figure size 432x288 with 1 Axes>"
            ],
            "image/png": "[encoded data removed]"
          },
          "metadata": {
            "needs_background": "light"
          }
        }
      ]
    },
    {
      "cell_type": "code",
      "source": [
        "predicted = [(model.predict(X) >= 0.5).astype(\"int\")]\n",
        "print(predicted)"
      ],
      "metadata": {
        "colab": {
          "base_uri": "https://localhost:8080/"
        },
        "id": "XhplkZv5cEjh",
        "outputId": "85d30948-bf25-4eb1-e212-576cf6f69850"
      },
      "execution_count": 330,
      "outputs": [
        {
          "output_type": "stream",
          "name": "stdout",
          "text": [
            "[array([[0],\n",
            "       [1],\n",
            "       [1],\n",
            "       [0]])]\n"
          ]
        }
      ]
    }
  ]
}